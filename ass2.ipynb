{
  "nbformat": 4,
  "nbformat_minor": 0,
  "metadata": {
    "colab": {
      "name": "ass2.ipynb",
      "provenance": [],
      "collapsed_sections": [
        "kR007UB5_HUh",
        "UtoO3pBMD0lH",
        "FPE8c2OsRyFv",
        "kyXT6GyWR1IK",
        "s1dQNbtIR9Wd",
        "na9OboQxFZZJ",
        "-tLzfKvbFcvP",
        "1rFumbO3SRpa"
      ]
    },
    "kernelspec": {
      "name": "python3",
      "display_name": "Python 3"
    },
    "language_info": {
      "name": "python"
    }
  },
  "cells": [
    {
      "cell_type": "markdown",
      "source": [
        "#**Import Libraries**"
      ],
      "metadata": {
        "id": "kR007UB5_HUh"
      }
    },
    {
      "cell_type": "code",
      "execution_count": 249,
      "metadata": {
        "id": "DLZdluQY2luj",
        "colab": {
          "base_uri": "https://localhost:8080/"
        },
        "outputId": "a3558bc3-3431-4195-d646-e855aa672f10"
      },
      "outputs": [
        {
          "output_type": "stream",
          "name": "stdout",
          "text": [
            "Looking in indexes: https://pypi.org/simple, https://us-python.pkg.dev/colab-wheels/public/simple/\n",
            "Requirement already satisfied: category_encoders in /usr/local/lib/python3.7/dist-packages (2.5.0)\n",
            "Requirement already satisfied: numpy>=1.14.0 in /usr/local/lib/python3.7/dist-packages (from category_encoders) (1.21.6)\n",
            "Requirement already satisfied: scipy>=1.0.0 in /usr/local/lib/python3.7/dist-packages (from category_encoders) (1.4.1)\n",
            "Requirement already satisfied: pandas>=1.0.5 in /usr/local/lib/python3.7/dist-packages (from category_encoders) (1.3.5)\n",
            "Requirement already satisfied: patsy>=0.5.1 in /usr/local/lib/python3.7/dist-packages (from category_encoders) (0.5.2)\n",
            "Requirement already satisfied: scikit-learn>=0.20.0 in /usr/local/lib/python3.7/dist-packages (from category_encoders) (1.0.2)\n",
            "Requirement already satisfied: statsmodels>=0.9.0 in /usr/local/lib/python3.7/dist-packages (from category_encoders) (0.10.2)\n",
            "Requirement already satisfied: python-dateutil>=2.7.3 in /usr/local/lib/python3.7/dist-packages (from pandas>=1.0.5->category_encoders) (2.8.2)\n",
            "Requirement already satisfied: pytz>=2017.3 in /usr/local/lib/python3.7/dist-packages (from pandas>=1.0.5->category_encoders) (2022.1)\n",
            "Requirement already satisfied: six in /usr/local/lib/python3.7/dist-packages (from patsy>=0.5.1->category_encoders) (1.15.0)\n",
            "Requirement already satisfied: threadpoolctl>=2.0.0 in /usr/local/lib/python3.7/dist-packages (from scikit-learn>=0.20.0->category_encoders) (3.1.0)\n",
            "Requirement already satisfied: joblib>=0.11 in /usr/local/lib/python3.7/dist-packages (from scikit-learn>=0.20.0->category_encoders) (1.1.0)\n"
          ]
        }
      ],
      "source": [
        "import numpy as np\n",
        "import pandas as pd\n",
        "import matplotlib.pyplot as plt\n",
        "import time\n",
        "from sklearn.model_selection import train_test_split\n",
        "from sklearn.metrics import classification_report, confusion_matrix, accuracy_score, plot_confusion_matrix\n",
        "from sklearn.neighbors import KNeighborsClassifier\n",
        "from sklearn.datasets import load_wine\n",
        "from sklearn.naive_bayes import GaussianNB\n",
        "from mlxtend.plotting import plot_decision_regions\n",
        "from sklearn.feature_selection import GenericUnivariateSelect\n",
        "from sklearn.feature_selection import chi2 , f_classif\n",
        "from IPython.core.display import clear_output\n",
        "from sklearn.preprocessing import LabelEncoder\n",
        "from sklearn.metrics import accuracy_score\n",
        "from IPython.display import clear_output\n",
        "!pip install category_encoders\n",
        "import category_encoders as ce\n",
        "import pandas as pd"
      ]
    },
    {
      "cell_type": "markdown",
      "source": [
        "#**Problem 1**"
      ],
      "metadata": {
        "id": "0MDCTZP--IS0"
      }
    },
    {
      "cell_type": "markdown",
      "source": [
        "#load_data"
      ],
      "metadata": {
        "id": "UtoO3pBMD0lH"
      }
    },
    {
      "cell_type": "code",
      "execution_count": 250,
      "metadata": {
        "id": "ul9P9LSl4xJP"
      },
      "outputs": [],
      "source": [
        "data= load_wine()\n",
        "X = data.data\n",
        "y = data.target"
      ]
    },
    {
      "cell_type": "markdown",
      "metadata": {
        "id": "FPE8c2OsRyFv"
      },
      "source": [
        "#A"
      ]
    },
    {
      "cell_type": "code",
      "execution_count": 251,
      "metadata": {
        "id": "S3J-h1p-6Yit"
      },
      "outputs": [],
      "source": [
        "x_train, x_test, y_train, y_test = train_test_split(X, y,test_size=.3,random_state=0)"
      ]
    },
    {
      "cell_type": "markdown",
      "metadata": {
        "id": "kyXT6GyWR1IK"
      },
      "source": [
        "#B"
      ]
    },
    {
      "cell_type": "code",
      "execution_count": 252,
      "metadata": {
        "id": "Wbru2f-ZMOf4",
        "colab": {
          "base_uri": "https://localhost:8080/"
        },
        "outputId": "3ba8a2f2-d0f3-4f29-af79-88ae4dae014f"
      },
      "outputs": [
        {
          "output_type": "execute_result",
          "data": {
            "text/plain": [
              "GaussianNB()"
            ]
          },
          "metadata": {},
          "execution_count": 252
        }
      ],
      "source": [
        "model = GaussianNB()\n",
        "model.fit(x_train,y_train)"
      ]
    },
    {
      "cell_type": "code",
      "execution_count": 253,
      "metadata": {
        "colab": {
          "base_uri": "https://localhost:8080/"
        },
        "id": "WpS3Uekx7D7t",
        "outputId": "6bff7f8f-6d8b-48b4-f4dc-795f33fac864"
      },
      "outputs": [
        {
          "output_type": "stream",
          "name": "stdout",
          "text": [
            "the accuracy = 0.9444444444444444\n",
            "Classification Report:\n",
            "\n",
            "               precision    recall  f1-score   support\n",
            "\n",
            "           0       0.90      1.00      0.95        19\n",
            "           1       1.00      0.86      0.93        22\n",
            "           2       0.93      1.00      0.96        13\n",
            "\n",
            "    accuracy                           0.94        54\n",
            "   macro avg       0.94      0.95      0.95        54\n",
            "weighted avg       0.95      0.94      0.94        54\n",
            "\n"
          ]
        }
      ],
      "source": [
        "y_pred=model.predict(x_test)\n",
        "print(f'the accuracy = {accuracy_score(y_test, y_pred)}')\n",
        "print(\"Classification Report:\\n\\n\", classification_report(y_test, y_pred))"
      ]
    },
    {
      "cell_type": "markdown",
      "metadata": {
        "id": "s1dQNbtIR9Wd"
      },
      "source": [
        "#C"
      ]
    },
    {
      "cell_type": "code",
      "execution_count": 254,
      "metadata": {
        "id": "rxsi4S0Y2ePW"
      },
      "outputs": [],
      "source": [
        "FeatureSelection = GenericUnivariateSelect(score_func=chi2, mode= 'k_best', param=2)\n",
        "x = FeatureSelection.fit_transform(X, y)"
      ]
    },
    {
      "cell_type": "code",
      "execution_count": 255,
      "metadata": {
        "colab": {
          "base_uri": "https://localhost:8080/"
        },
        "id": "5Bq0xzdK2vzi",
        "outputId": "facdf02b-c55e-4abb-a48a-380635dd6e6b"
      },
      "outputs": [
        {
          "output_type": "execute_result",
          "data": {
            "text/plain": [
              "[9, 12]"
            ]
          },
          "metadata": {},
          "execution_count": 255
        }
      ],
      "source": [
        "feat = FeatureSelection.get_support()\n",
        "feat = [i for i,v in enumerate(feat) if v] #return indecises that have true\n",
        "feat"
      ]
    },
    {
      "cell_type": "code",
      "source": [
        "print(data.feature_names[feat[0]], ' ', data.feature_names[feat[1]])"
      ],
      "metadata": {
        "colab": {
          "base_uri": "https://localhost:8080/"
        },
        "id": "bRgOOL1lRlJS",
        "outputId": "72738f89-0ba4-4ede-ac6a-914cd027f79f"
      },
      "execution_count": 256,
      "outputs": [
        {
          "output_type": "stream",
          "name": "stdout",
          "text": [
            "color_intensity   proline\n"
          ]
        }
      ]
    },
    {
      "cell_type": "code",
      "source": [
        "x_tr = x_train[:,feat]\n",
        "y_tr = y_train\n",
        "\n",
        "x_ts = x_test[:,feat]\n",
        "y_ts = y_test"
      ],
      "metadata": {
        "id": "Rj1-pXwS8lck"
      },
      "execution_count": 257,
      "outputs": []
    },
    {
      "cell_type": "code",
      "source": [
        "model = GaussianNB()\n",
        "model.fit(x_tr,y_tr)"
      ],
      "metadata": {
        "colab": {
          "base_uri": "https://localhost:8080/"
        },
        "id": "nNPXvn8f8kV1",
        "outputId": "c9a040a6-79cd-4265-9a3b-a287e4d97a67"
      },
      "execution_count": 258,
      "outputs": [
        {
          "output_type": "execute_result",
          "data": {
            "text/plain": [
              "GaussianNB()"
            ]
          },
          "metadata": {},
          "execution_count": 258
        }
      ]
    },
    {
      "cell_type": "code",
      "execution_count": 259,
      "metadata": {
        "colab": {
          "base_uri": "https://localhost:8080/",
          "height": 296
        },
        "id": "SuQ1-pEUzEOo",
        "outputId": "7cbbb74f-c5df-4fe6-c124-0211fcbd2f61"
      },
      "outputs": [
        {
          "output_type": "display_data",
          "data": {
            "text/plain": [
              "<Figure size 432x288 with 1 Axes>"
            ],
            "image/png": "[encoded data removed]"
          },
          "metadata": {
            "needs_background": "light"
          }
        }
      ],
      "source": [
        "from mlxtend.plotting import plot_decision_regions\n",
        "ax = plot_decision_regions(x_ts, y_ts, clf=model, legend=2)\n",
        "handles, labeles = ax.get_legend_handles_labels()\n",
        "ax.legend(handles, data.target_names, framealpha=0.3, scatterpoints=1)\n",
        "\n",
        "plt.title('NB Decision Boundaries')\n",
        "plt.xlabel(data.feature_names[feat[0]])\n",
        "plt.ylabel(data.feature_names[feat[1]])\n",
        "\n",
        "clear_output()\n",
        "plt.show() "
      ]
    },
    {
      "cell_type": "markdown",
      "source": [
        "#**Problem 2**"
      ],
      "metadata": {
        "id": "TqX-fc4A-dZ0"
      }
    },
    {
      "cell_type": "markdown",
      "source": [
        "#read_data"
      ],
      "metadata": {
        "id": "na9OboQxFZZJ"
      }
    },
    {
      "cell_type": "code",
      "source": [
        "df=pd.read_csv('car_evaluation.csv')"
      ],
      "metadata": {
        "id": "HSvMHIjmGuFi"
      },
      "execution_count": 260,
      "outputs": []
    },
    {
      "cell_type": "markdown",
      "source": [
        "#A"
      ],
      "metadata": {
        "id": "-tLzfKvbFcvP"
      }
    },
    {
      "cell_type": "code",
      "source": [
        "def shuffle_data_using_sample(data_frame):\n",
        "  return data_frame.sample(frac=1, random_state=5)\n",
        "# another_way\n",
        "def shuffle_data_using_shuffle(data_frame):\n",
        "  return np.random.shuffle(data_frame)"
      ],
      "metadata": {
        "id": "i9b7TQ8sO9Aa"
      },
      "execution_count": 261,
      "outputs": []
    },
    {
      "cell_type": "code",
      "source": [
        "data=shuffle_data_using_sample(df)\n",
        "#shuffle_data_using_shuffle(df.to_numpy())"
      ],
      "metadata": {
        "id": "UKnpQzDCJKnZ"
      },
      "execution_count": 262,
      "outputs": []
    },
    {
      "cell_type": "code",
      "source": [
        "train=data.iloc[0:1000]\n",
        "validate=data.iloc[1000:1300]\n",
        "test=data.iloc[1300:1728]"
      ],
      "metadata": {
        "id": "fGk-hsjEGJK8"
      },
      "execution_count": 263,
      "outputs": []
    },
    {
      "cell_type": "markdown",
      "source": [
        "#B"
      ],
      "metadata": {
        "id": "1rFumbO3SRpa"
      }
    },
    {
      "cell_type": "code",
      "source": [
        "df.columns\n",
        "#['buying_price', 'maintenance_cost', 'number_of_doors','number_of_persons', 'lug_boot', 'safety', 'decision']\n",
        "df['buying_price'].unique()\n",
        "# ['vhigh', 'high', 'med', 'low']\n",
        "df['maintenance_cost'].unique()\n",
        "# ['vhigh', 'high', 'med', 'low']\n",
        "df['number_of_doors'].unique()\n",
        "# ['2', '3', '4', '5more']\n",
        "df['number_of_persons'].unique()\n",
        "#['2', '4', 'more']\n",
        "df['lug_boot'].unique()\n",
        "#['small', 'med', 'big']\n",
        "df['safety'].unique()\n",
        "#['low', 'med', 'high']\n",
        "df['decision'].unique()\n",
        "#['unacc', 'acc', 'vgood', 'good']"
      ],
      "metadata": {
        "colab": {
          "base_uri": "https://localhost:8080/"
        },
        "id": "SEqDpDiKFGwU",
        "outputId": "cffe5d64-9ca0-4c5e-bc27-bec06b137014"
      },
      "execution_count": 278,
      "outputs": [
        {
          "output_type": "execute_result",
          "data": {
            "text/plain": [
              "array(['unacc', 'acc', 'vgood', 'good'], dtype=object)"
            ]
          },
          "metadata": {},
          "execution_count": 278
        }
      ]
    },
    {
      "cell_type": "code",
      "source": [
        "def get_ordinary_encoding(df):\n",
        "  # df=pd.read_csv('car_evaluation.csv')\n",
        "  encoder= ce.OrdinalEncoder(cols=['buying_price'],return_df=True,mapping=[{'col':'buying_price','mapping':{'low':0,'med':1,'high':2,'vhigh':3}}])\n",
        "  df['buying_price']= encoder.fit_transform(df['buying_price'])\n",
        "\n",
        "  encoder= ce.OrdinalEncoder(cols=['maintenance_cost'],return_df=True,mapping=[{'col':'maintenance_cost','mapping':{'low':0,'med':1,'high':2,'vhigh':3}}])\n",
        "  df['maintenance_cost']= encoder.fit_transform(df['maintenance_cost'])\n",
        "\n",
        "  encoder= ce.OrdinalEncoder(cols=['number_of_doors'],return_df=True,mapping=[{'col':'number_of_doors','mapping':{'2':0,'3':1,'4':2,'5more':3}}])\n",
        "  df['number_of_doors']= encoder.fit_transform(df['number_of_doors'])\n",
        "\n",
        "  encoder= ce.OrdinalEncoder(cols=['number_of_persons'],return_df=True,mapping=[{'col':'number_of_persons','mapping':{'2':0,'4':1,'more':2}}])\n",
        "  df['number_of_persons']= encoder.fit_transform(df['number_of_persons'])\n",
        "\n",
        "  encoder= ce.OrdinalEncoder(cols=['lug_boot'],return_df=True,mapping=[{'col':'lug_boot','mapping':{'small':0,'med':1,'big':2}}])\n",
        "  df['lug_boot']= encoder.fit_transform(df['lug_boot'])\n",
        "\n",
        "  encoder= ce.OrdinalEncoder(cols=['safety'],return_df=True,mapping=[{'col':'safety','mapping':{'low':0,'med':1,'high':2}}])\n",
        "  df['safety']= encoder.fit_transform(df['safety'])\n",
        "  return df\n"
      ],
      "metadata": {
        "id": "X-nplTu4Dez-"
      },
      "execution_count": 265,
      "outputs": []
    },
    {
      "cell_type": "code",
      "source": [
        "def pre_process(df):\n",
        "  name = df.columns[-1]\n",
        "  y = df.iloc[:,-1]\n",
        "\n",
        "  encoder = LabelEncoder()\n",
        "  y = encoder.fit_transform(y)\n",
        "\n",
        "  #df = pd.get_dummies(df.iloc[:,:-1])\n",
        "\n",
        "  # another way\n",
        "\n",
        "  df =get_ordinary_encoding(df.iloc[:,:-1]) \n",
        "  df[name] = y\n",
        "  return df"
      ],
      "metadata": {
        "id": "koxiohCqP6dZ"
      },
      "execution_count": 266,
      "outputs": []
    },
    {
      "cell_type": "code",
      "source": [
        "train=pre_process(train)\n",
        "validate=pre_process(validate)\n",
        "test=pre_process(test)\n",
        "clear_output()"
      ],
      "metadata": {
        "id": "wda77qLyJAb-"
      },
      "execution_count": 267,
      "outputs": []
    },
    {
      "cell_type": "markdown",
      "source": [
        "#C"
      ],
      "metadata": {
        "id": "HIDmLnG9SXp5"
      }
    },
    {
      "cell_type": "code",
      "source": [
        "performance = []\n",
        "for i in range(1,11):\n",
        "  tr = train.sample(frac=i/10, random_state=5)\n",
        "  x_tr = tr.iloc[:,:-1]\n",
        "  y_tr = tr.iloc[:,-1:]\n",
        "  x_vl = validate.iloc[:,:-1]\n",
        "  y_vl = validate.iloc[:,-1:]\n",
        "  x_ts = test.iloc[:,:-1]\n",
        "  y_ts = test.iloc[:,-1:]\n",
        "\n",
        "  #The distance metric to use for the tree. The default metric is minkowski, and with p=2 is equivalent to the standard Euclidean metric\n",
        "  knn = KNeighborsClassifier(n_neighbors=2, metric=\"minkowski\", p=2)\n",
        "  knn.fit(x_tr, y_tr)\n",
        "\n",
        "  val_acc = accuracy_score(y_vl, knn.predict(x_vl))\n",
        "  tst_acc = accuracy_score(y_ts, knn.predict(x_ts))\n",
        "  \n",
        "  performance.append((val_acc, tst_acc))\n",
        "\n",
        "clear_output()"
      ],
      "metadata": {
        "id": "KRJ38xp_R3zO"
      },
      "execution_count": 268,
      "outputs": []
    },
    {
      "cell_type": "code",
      "source": [
        "print(performance)"
      ],
      "metadata": {
        "colab": {
          "base_uri": "https://localhost:8080/"
        },
        "id": "mXkM9PnJI7iy",
        "outputId": "c9324742-f25c-4ff6-de4b-1056af9323c7"
      },
      "execution_count": 269,
      "outputs": [
        {
          "output_type": "stream",
          "name": "stdout",
          "text": [
            "[(0.6533333333333333, 0.7126168224299065), (0.6766666666666666, 0.735981308411215), (0.6866666666666666, 0.7336448598130841), (0.76, 0.7850467289719626), (0.76, 0.794392523364486), (0.7766666666666666, 0.7967289719626168), (0.7566666666666667, 0.780373831775701), (0.75, 0.8037383177570093), (0.7533333333333333, 0.8107476635514018), (0.74, 0.7827102803738317)]\n"
          ]
        }
      ]
    },
    {
      "cell_type": "code",
      "source": [
        "x_label=[.1, .2, .3, .4, .5, .6, .7, .8, .9, 1]\n",
        "plt.title('Performance')\n",
        "plt.xlabel('Proportion of Training Set')\n",
        "plt.ylabel('Accuracy Score')\n",
        "plt.plot(x_label,performance);\n",
        "plt.legend(['Validation', 'Test'])"
      ],
      "metadata": {
        "colab": {
          "base_uri": "https://localhost:8080/",
          "height": 312
        },
        "id": "c6_OEmYWeTal",
        "outputId": "f1833100-d131-466f-80f9-e37d12d06844"
      },
      "execution_count": 270,
      "outputs": [
        {
          "output_type": "execute_result",
          "data": {
            "text/plain": [
              "<matplotlib.legend.Legend at 0x7f4d0af3cad0>"
            ]
          },
          "metadata": {},
          "execution_count": 270
        },
        {
          "output_type": "display_data",
          "data": {
            "text/plain": [
              "<Figure size 432x288 with 1 Axes>"
            ],
            "image/png": "[encoded data removed]"
          },
          "metadata": {
            "needs_background": "light"
          }
        }
      ]
    },
    {
      "cell_type": "markdown",
      "source": [
        "#D"
      ],
      "metadata": {
        "id": "7ALUiVnHfxqi"
      }
    },
    {
      "cell_type": "code",
      "source": [
        "x_tr = train.iloc[:,:-1]\n",
        "y_tr = train.iloc[:,-1:]\n",
        "x_vl = validate.iloc[:,:-1]\n",
        "y_vl = validate.iloc[:,-1:]\n",
        "performance = []\n",
        "for k in range(1, 11):\n",
        "  knn = KNeighborsClassifier(n_neighbors=k)\n",
        "  knn.fit(x_tr, y_tr)\n",
        "  val_acc = accuracy_score(y_vl, knn.predict(x_vl))\n",
        "  performance.append(val_acc)\n",
        "clear_output()"
      ],
      "metadata": {
        "id": "ObTNhQUpf0Fo"
      },
      "execution_count": 271,
      "outputs": []
    },
    {
      "cell_type": "code",
      "source": [
        "print(performance)"
      ],
      "metadata": {
        "colab": {
          "base_uri": "https://localhost:8080/"
        },
        "id": "Atbos8C5h9Kv",
        "outputId": "c6e812fe-f43d-47ba-b226-6f2ca284baa8"
      },
      "execution_count": 272,
      "outputs": [
        {
          "output_type": "stream",
          "name": "stdout",
          "text": [
            "[0.7866666666666666, 0.77, 0.88, 0.8666666666666667, 0.8966666666666666, 0.8833333333333333, 0.8733333333333333, 0.8566666666666667, 0.8733333333333333, 0.8766666666666667]\n"
          ]
        }
      ]
    },
    {
      "cell_type": "code",
      "source": [
        "x_label=[1, 2, 3, 4, 5, 6, 7, 8, 9, 10]\n",
        "plt.title('Performance')\n",
        "plt.xlabel('K-value')\n",
        "plt.ylabel('Accuracy Score')\n",
        "plt.plot(x_label,performance);\n",
        "plt.legend(['Validation'])"
      ],
      "metadata": {
        "colab": {
          "base_uri": "https://localhost:8080/",
          "height": 312
        },
        "id": "Wwnn-UY7hGk9",
        "outputId": "50b35feb-6973-4644-afdc-2fa2bfaf2c63"
      },
      "execution_count": 273,
      "outputs": [
        {
          "output_type": "execute_result",
          "data": {
            "text/plain": [
              "<matplotlib.legend.Legend at 0x7f4d0af31ed0>"
            ]
          },
          "metadata": {},
          "execution_count": 273
        },
        {
          "output_type": "display_data",
          "data": {
            "text/plain": [
              "<Figure size 432x288 with 1 Axes>"
            ],
            "image/png": "[encoded data removed]"
          },
          "metadata": {
            "needs_background": "light"
          }
        }
      ]
    },
    {
      "cell_type": "markdown",
      "source": [
        "#E"
      ],
      "metadata": {
        "id": "lw2ZvJlGjjfo"
      }
    },
    {
      "cell_type": "code",
      "source": [
        "def get_time():\n",
        "  start_time = time.time()\n",
        "  knn = KNeighborsClassifier(n_neighbors=k)\n",
        "  knn.fit(x_tr, y_tr)\n",
        "  end_time=time.time()\n",
        "  train_time = end_time - start_time\n",
        "\n",
        "  start_time = time.time()\n",
        "  knn.predict(x_ts)\n",
        "  end_time=time.time()\n",
        "  test_time = end_time - start_time\n",
        "\n",
        "  return train_time, test_time"
      ],
      "metadata": {
        "id": "07st8NzTnvN6"
      },
      "execution_count": 274,
      "outputs": []
    },
    {
      "cell_type": "code",
      "source": [
        "cases = [(.1, 2), (1, 2), (.1, 10), (1, 10)]\n",
        "train_time = []\n",
        "test_time = []\n",
        "for case in cases:\n",
        "  tr = train.sample(frac=case[0], random_state=30)\n",
        "  x_tr = tr.iloc[:,:-1]\n",
        "  y_tr = tr.iloc[:,-1:]\n",
        "  x_ts = test.iloc[:,:-1]\n",
        "  k = case[1]\n",
        "  tr_time , ts_time = get_time()\n",
        "  train_time.append(tr_time)\n",
        "  test_time.append(ts_time)\n",
        "clear_output()"
      ],
      "metadata": {
        "id": "gM9pQrw3jm3R"
      },
      "execution_count": 275,
      "outputs": []
    },
    {
      "cell_type": "markdown",
      "source": [
        "**1-Analysis the training time**"
      ],
      "metadata": {
        "id": "NMyuKqxl1onV"
      }
    },
    {
      "cell_type": "code",
      "source": [
        "x_label=['10% & k=2','100% & k=2','10% & k=10','100% & k=10']\n",
        "plt.title('Time consumed on Training')\n",
        "plt.xlabel('Cases of k and size data')\n",
        "plt.ylabel('Prediction time')\n",
        "plt.bar(x_label,train_time)"
      ],
      "metadata": {
        "colab": {
          "base_uri": "https://localhost:8080/",
          "height": 312
        },
        "id": "OSkP4xOh04_V",
        "outputId": "ea2ae3f1-ea71-499b-bdad-8e0cb00db07c"
      },
      "execution_count": 276,
      "outputs": [
        {
          "output_type": "execute_result",
          "data": {
            "text/plain": [
              "<BarContainer object of 4 artists>"
            ]
          },
          "metadata": {},
          "execution_count": 276
        },
        {
          "output_type": "display_data",
          "data": {
            "text/plain": [
              "<Figure size 432x288 with 1 Axes>"
            ],
            "image/png": "[encoded data removed]"
          },
          "metadata": {
            "needs_background": "light"
          }
        }
      ]
    },
    {
      "cell_type": "markdown",
      "source": [
        "**2-Prediction time**"
      ],
      "metadata": {
        "id": "JrQbYMT_1yZI"
      }
    },
    {
      "cell_type": "code",
      "source": [
        "x_label=['10% & k=2','100% & k=2','10% & k=10','100% & k=10']\n",
        "plt.title('Time consumed on prediction')\n",
        "plt.xlabel('Cases of k and size data')\n",
        "plt.ylabel('Prediction time')\n",
        "plt.bar(x_label,test_time)"
      ],
      "metadata": {
        "colab": {
          "base_uri": "https://localhost:8080/",
          "height": 312
        },
        "id": "rWIDiT6HzoxJ",
        "outputId": "8c47e973-e58e-4829-87f7-c4b6dc2bb0bc"
      },
      "execution_count": 277,
      "outputs": [
        {
          "output_type": "execute_result",
          "data": {
            "text/plain": [
              "<BarContainer object of 4 artists>"
            ]
          },
          "metadata": {},
          "execution_count": 277
        },
        {
          "output_type": "display_data",
          "data": {
            "text/plain": [
              "<Figure size 432x288 with 1 Axes>"
            ],
            "image/png": "[encoded data removed]"
          },
          "metadata": {
            "needs_background": "light"
          }
        }
      ]
    }
  ]
}