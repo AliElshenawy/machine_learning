{
 "cells": [
  {
   "cell_type": "markdown",
   "metadata": {
    "id": "i00tr7G2O-Jj"
   },
   "source": [
    "#Import Linraries"
   ]
  },
  {
   "cell_type": "code",
   "execution_count": 2,
   "metadata": {
    "id": "P4IWl35zMY8R"
   },
   "outputs": [],
   "source": [
    "import pandas as pd\n",
    "import numpy as np"
   ]
  },
  {
   "cell_type": "markdown",
   "metadata": {
    "id": "Ywzp5yHoPDw4"
   },
   "source": [
    "#Read and split Data"
   ]
  },
  {
   "cell_type": "code",
   "execution_count": 6,
   "metadata": {
    "colab": {
     "base_uri": "https://localhost:8080/",
     "height": 423
    },
    "id": "mKFydpmyMZ9m",
    "outputId": "7d58c511-fec3-4e62-a3f3-3a13c1f8a308"
   },
   "outputs": [
    {
     "data": {
      "text/html": [
       "\n",
       "  <div id=\"df-a7c2f086-4874-45fe-b075-b49c2147fa55\">\n",
       "    <div class=\"colab-df-container\">\n",
       "      <div>\n",
       "<style scoped>\n",
       "    .dataframe tbody tr th:only-of-type {\n",
       "        vertical-align: middle;\n",
       "    }\n",
       "\n",
       "    .dataframe tbody tr th {\n",
       "        vertical-align: top;\n",
       "    }\n",
       "\n",
       "    .dataframe thead th {\n",
       "        text-align: right;\n",
       "    }\n",
       "</style>\n",
       "<table border=\"1\" class=\"dataframe\">\n",
       "  <thead>\n",
       "    <tr style=\"text-align: right;\">\n",
       "      <th></th>\n",
       "      <th>youtube</th>\n",
       "      <th>facebook</th>\n",
       "      <th>newspaper</th>\n",
       "      <th>sales</th>\n",
       "    </tr>\n",
       "  </thead>\n",
       "  <tbody>\n",
       "    <tr>\n",
       "      <th>0</th>\n",
       "      <td>84.72</td>\n",
       "      <td>19.20</td>\n",
       "      <td>48.96</td>\n",
       "      <td>12.60</td>\n",
       "    </tr>\n",
       "    <tr>\n",
       "      <th>1</th>\n",
       "      <td>351.48</td>\n",
       "      <td>33.96</td>\n",
       "      <td>51.84</td>\n",
       "      <td>25.68</td>\n",
       "    </tr>\n",
       "    <tr>\n",
       "      <th>2</th>\n",
       "      <td>135.48</td>\n",
       "      <td>20.88</td>\n",
       "      <td>46.32</td>\n",
       "      <td>14.28</td>\n",
       "    </tr>\n",
       "    <tr>\n",
       "      <th>3</th>\n",
       "      <td>116.64</td>\n",
       "      <td>1.80</td>\n",
       "      <td>36.00</td>\n",
       "      <td>11.52</td>\n",
       "    </tr>\n",
       "    <tr>\n",
       "      <th>4</th>\n",
       "      <td>318.72</td>\n",
       "      <td>24.00</td>\n",
       "      <td>0.36</td>\n",
       "      <td>20.88</td>\n",
       "    </tr>\n",
       "    <tr>\n",
       "      <th>...</th>\n",
       "      <td>...</td>\n",
       "      <td>...</td>\n",
       "      <td>...</td>\n",
       "      <td>...</td>\n",
       "    </tr>\n",
       "    <tr>\n",
       "      <th>166</th>\n",
       "      <td>45.84</td>\n",
       "      <td>4.44</td>\n",
       "      <td>16.56</td>\n",
       "      <td>9.12</td>\n",
       "    </tr>\n",
       "    <tr>\n",
       "      <th>167</th>\n",
       "      <td>113.04</td>\n",
       "      <td>5.88</td>\n",
       "      <td>9.72</td>\n",
       "      <td>11.64</td>\n",
       "    </tr>\n",
       "    <tr>\n",
       "      <th>168</th>\n",
       "      <td>212.40</td>\n",
       "      <td>11.16</td>\n",
       "      <td>7.68</td>\n",
       "      <td>15.36</td>\n",
       "    </tr>\n",
       "    <tr>\n",
       "      <th>169</th>\n",
       "      <td>340.32</td>\n",
       "      <td>50.40</td>\n",
       "      <td>79.44</td>\n",
       "      <td>30.60</td>\n",
       "    </tr>\n",
       "    <tr>\n",
       "      <th>170</th>\n",
       "      <td>278.52</td>\n",
       "      <td>10.32</td>\n",
       "      <td>10.44</td>\n",
       "      <td>16.08</td>\n",
       "    </tr>\n",
       "  </tbody>\n",
       "</table>\n",
       "<p>171 rows × 4 columns</p>\n",
       "</div>\n",
       "      <button class=\"colab-df-convert\" onclick=\"convertToInteractive('df-a7c2f086-4874-45fe-b075-b49c2147fa55')\"\n",
       "              title=\"Convert this dataframe to an interactive table.\"\n",
       "              style=\"display:none;\">\n",
       "        \n",
       "  <svg xmlns=\"http://www.w3.org/2000/svg\" height=\"24px\"viewBox=\"0 0 24 24\"\n",
       "       width=\"24px\">\n",
       "    <path d=\"M0 0h24v24H0V0z\" fill=\"none\"/>\n",
       "    <path d=\"M18.56 5.44l.94 2.06.94-2.06 2.06-.94-2.06-.94-.94-2.06-.94 2.06-2.06.94zm-11 1L8.5 8.5l.94-2.06 2.06-.94-2.06-.94L8.5 2.5l-.94 2.06-2.06.94zm10 10l.94 2.06.94-2.06 2.06-.94-2.06-.94-.94-2.06-.94 2.06-2.06.94z\"/><path d=\"M17.41 7.96l-1.37-1.37c-.4-.4-.92-.59-1.43-.59-.52 0-1.04.2-1.43.59L10.3 9.45l-7.72 7.72c-.78.78-.78 2.05 0 2.83L4 21.41c.39.39.9.59 1.41.59.51 0 1.02-.2 1.41-.59l7.78-7.78 2.81-2.81c.8-.78.8-2.07 0-2.86zM5.41 20L4 18.59l7.72-7.72 1.47 1.35L5.41 20z\"/>\n",
       "  </svg>\n",
       "      </button>\n",
       "      \n",
       "  <style>\n",
       "    .colab-df-container {\n",
       "      display:flex;\n",
       "      flex-wrap:wrap;\n",
       "      gap: 12px;\n",
       "    }\n",
       "\n",
       "    .colab-df-convert {\n",
       "      background-color: #E8F0FE;\n",
       "      border: none;\n",
       "      border-radius: 50%;\n",
       "      cursor: pointer;\n",
       "      display: none;\n",
       "      fill: #1967D2;\n",
       "      height: 32px;\n",
       "      padding: 0 0 0 0;\n",
       "      width: 32px;\n",
       "    }\n",
       "\n",
       "    .colab-df-convert:hover {\n",
       "      background-color: #E2EBFA;\n",
       "      box-shadow: 0px 1px 2px rgba(60, 64, 67, 0.3), 0px 1px 3px 1px rgba(60, 64, 67, 0.15);\n",
       "      fill: #174EA6;\n",
       "    }\n",
       "\n",
       "    [theme=dark] .colab-df-convert {\n",
       "      background-color: #3B4455;\n",
       "      fill: #D2E3FC;\n",
       "    }\n",
       "\n",
       "    [theme=dark] .colab-df-convert:hover {\n",
       "      background-color: #434B5C;\n",
       "      box-shadow: 0px 1px 3px 1px rgba(0, 0, 0, 0.15);\n",
       "      filter: drop-shadow(0px 1px 2px rgba(0, 0, 0, 0.3));\n",
       "      fill: #FFFFFF;\n",
       "    }\n",
       "  </style>\n",
       "\n",
       "      <script>\n",
       "        const buttonEl =\n",
       "          document.querySelector('#df-a7c2f086-4874-45fe-b075-b49c2147fa55 button.colab-df-convert');\n",
       "        buttonEl.style.display =\n",
       "          google.colab.kernel.accessAllowed ? 'block' : 'none';\n",
       "\n",
       "        async function convertToInteractive(key) {\n",
       "          const element = document.querySelector('#df-a7c2f086-4874-45fe-b075-b49c2147fa55');\n",
       "          const dataTable =\n",
       "            await google.colab.kernel.invokeFunction('convertToInteractive',\n",
       "                                                     [key], {});\n",
       "          if (!dataTable) return;\n",
       "\n",
       "          const docLinkHtml = 'Like what you see? Visit the ' +\n",
       "            '<a target=\"_blank\" href=https://colab.research.google.com/notebooks/data_table.ipynb>data table notebook</a>'\n",
       "            + ' to learn more about interactive tables.';\n",
       "          element.innerHTML = '';\n",
       "          dataTable['output_type'] = 'display_data';\n",
       "          await google.colab.output.renderOutput(dataTable, element);\n",
       "          const docLink = document.createElement('div');\n",
       "          docLink.innerHTML = docLinkHtml;\n",
       "          element.appendChild(docLink);\n",
       "        }\n",
       "      </script>\n",
       "    </div>\n",
       "  </div>\n",
       "  "
      ],
      "text/plain": [
       "     youtube  facebook  newspaper  sales\n",
       "0      84.72     19.20      48.96  12.60\n",
       "1     351.48     33.96      51.84  25.68\n",
       "2     135.48     20.88      46.32  14.28\n",
       "3     116.64      1.80      36.00  11.52\n",
       "4     318.72     24.00       0.36  20.88\n",
       "..       ...       ...        ...    ...\n",
       "166    45.84      4.44      16.56   9.12\n",
       "167   113.04      5.88       9.72  11.64\n",
       "168   212.40     11.16       7.68  15.36\n",
       "169   340.32     50.40      79.44  30.60\n",
       "170   278.52     10.32      10.44  16.08\n",
       "\n",
       "[171 rows x 4 columns]"
      ]
     },
     "execution_count": 6,
     "metadata": {},
     "output_type": "execute_result"
    }
   ],
   "source": [
    "dataset = pd.read_csv('market_data.csv')\n",
    "dataset"
   ]
  },
  {
   "cell_type": "code",
   "execution_count": 7,
   "metadata": {
    "colab": {
     "base_uri": "https://localhost:8080/"
    },
    "id": "MwPu5jl6Mee-",
    "outputId": "93a0a551-7e6d-46c9-81d6-073cec0323c1"
   },
   "outputs": [
    {
     "data": {
      "text/plain": [
       "(171, 4)"
      ]
     },
     "execution_count": 7,
     "metadata": {},
     "output_type": "execute_result"
    }
   ],
   "source": [
    "after_drop = dataset.drop('sales', axis =1 )\n",
    "y = dataset['sales']\n",
    "\n",
    "dataset.shape"
   ]
  },
  {
   "cell_type": "code",
   "execution_count": 8,
   "metadata": {
    "id": "F7qSd3sPMifn"
   },
   "outputs": [],
   "source": [
    "np_array = after_drop.to_numpy()"
   ]
  },
  {
   "cell_type": "code",
   "execution_count": 9,
   "metadata": {
    "id": "TxOES5mkMkAt"
   },
   "outputs": [],
   "source": [
    "x1 = dataset['youtube']\n",
    "x2 = dataset['facebook']\n",
    "x3 = dataset['newspaper']\n",
    "#y =  dataset['sales']"
   ]
  },
  {
   "cell_type": "markdown",
   "metadata": {
    "id": "vOSA3kYoPL1e"
   },
   "source": [
    "#Apply Norm Equation"
   ]
  },
  {
   "cell_type": "code",
   "execution_count": 16,
   "metadata": {
    "id": "cgc3xEcEMpVh"
   },
   "outputs": [],
   "source": [
    "n= len(x1)      \n",
    "x_bais= np.ones((n,1)) # to add a column as a bias\n",
    "\n",
    "x_new = np.append(x_bais ,np_array, axis = 1)   # X\n",
    "\n",
    "\n",
    "x_new_transpose = np.transpose(x_new)  #X.T\n",
    "\n",
    "x_new_transpose_dot_x_new = x_new_transpose.dot(x_new)   # (X.T X)\n",
    "\n",
    "temp_1 = np.linalg.inv(x_new_transpose_dot_x_new) #(X X.T) inverse\n",
    "\n",
    "temp_2 = x_new_transpose.dot(y)   # X.T * y\n",
    "\n",
    "theta = temp_1.dot(temp_2)  #(X X.T) inverse * X.T * y"
   ]
  },
  {
   "cell_type": "code",
   "execution_count": 17,
   "metadata": {
    "colab": {
     "base_uri": "https://localhost:8080/"
    },
    "id": "QnUgKGTqMrPv",
    "outputId": "8bc73685-905c-42a2-efa7-6d182f8a611d"
   },
   "outputs": [
    {
     "name": "stdout",
     "output_type": "stream",
     "text": [
      "3.505870994464999\n",
      "0.04523544441261529\n",
      "0.1883978254115084\n",
      "0.004279491858703244\n"
     ]
    }
   ],
   "source": [
    "theta_0 = theta[0]\n",
    "theta_1 = theta[1]\n",
    "theta_2 = theta[2]\n",
    "theta_3 = theta[3]\n",
    "print(theta_0)\n",
    "print(theta_1)\n",
    "print(theta_2)\n",
    "print(theta_3)"
   ]
  },
  {
   "cell_type": "markdown",
   "metadata": {
    "id": "xcR7WBl0PRsy"
   },
   "source": [
    "#predicte sales by using Norm Equation"
   ]
  },
  {
   "cell_type": "code",
   "execution_count": 12,
   "metadata": {
    "id": "HGKX8oLFMuTI"
   },
   "outputs": [],
   "source": [
    "def pred_values(theta_0,theta_1,theta_2,theta_3,youtube,facebook,newspaper):\n",
    "    predicted_value = youtube * theta_1 + facebook * theta_2 + newspaper * theta_3 + theta_0   \n",
    "    return predicted_value"
   ]
  },
  {
   "cell_type": "code",
   "execution_count": 13,
   "metadata": {
    "colab": {
     "base_uri": "https://localhost:8080/"
    },
    "id": "9T8UjoYUMvr0",
    "outputId": "5f55d77c-d85f-4fb8-fdf7-c0058a38be55"
   },
   "outputs": [
    {
     "name": "stdout",
     "output_type": "stream",
     "text": [
      "11.164980014404838\n"
     ]
    }
   ],
   "source": [
    "youtube = 84.72\n",
    "facebook = 19.20\n",
    "newspaper = 48.96\n",
    "print(pred_values(theta_0,theta_1,theta_2,theta_3,youtube,facebook,newspaper))"
   ]
  },
  {
   "cell_type": "code",
   "execution_count": 14,
   "metadata": {
    "colab": {
     "base_uri": "https://localhost:8080/"
    },
    "id": "oXfWL3AbMxh7",
    "outputId": "b545bfbe-97d3-4d30-857f-475099fcf8eb"
   },
   "outputs": [
    {
     "name": "stdout",
     "output_type": "stream",
     "text": [
      "26.025064005541022\n"
     ]
    }
   ],
   "source": [
    "youtube =351.48\n",
    "facebook = 33.96\n",
    "newspaper = 51.84\n",
    "print(pred_values(theta_0,theta_1,theta_2,theta_3,youtube,facebook,newspaper))"
   ]
  },
  {
   "cell_type": "code",
   "execution_count": 15,
   "metadata": {
    "colab": {
     "base_uri": "https://localhost:8080/"
    },
    "id": "QtR9w5XdMz41",
    "outputId": "9caaff9d-bf1f-42c0-ec9e-776f7693b121"
   },
   "outputs": [
    {
     "name": "stdout",
     "output_type": "stream",
     "text": [
      "22.749527864136635\n"
     ]
    }
   ],
   "source": [
    "youtube = 29\n",
    "facebook = 93\n",
    "newspaper = 96\n",
    "print(pred_values(theta_0,theta_1,theta_2,theta_3,youtube,facebook,newspaper))"
   ]
  }
 ],
 "metadata": {
  "colab": {
   "provenance": []
  },
  "kernelspec": {
   "display_name": "Python 3 (ipykernel)",
   "language": "python",
   "name": "python3"
  },
  "language_info": {
   "codemirror_mode": {
    "name": "ipython",
    "version": 3
   },
   "file_extension": ".py",
   "mimetype": "text/x-python",
   "name": "python",
   "nbconvert_exporter": "python",
   "pygments_lexer": "ipython3",
   "version": "3.9.13"
  }
 },
 "nbformat": 4,
 "nbformat_minor": 1
}
